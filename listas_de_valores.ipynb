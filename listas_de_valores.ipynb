{
  "nbformat": 4,
  "nbformat_minor": 0,
  "metadata": {
    "colab": {
      "provenance": []
    },
    "kernelspec": {
      "name": "python3",
      "display_name": "Python 3"
    },
    "language_info": {
      "name": "python"
    }
  },
  "cells": [
    {
      "cell_type": "markdown",
      "source": [
        "Lista, tuplas e dicionários"
      ],
      "metadata": {
        "id": "GGWID3yRWY1W"
      }
    },
    {
      "cell_type": "code",
      "execution_count": 1,
      "metadata": {
        "colab": {
          "base_uri": "https://localhost:8080/"
        },
        "id": "SNA_X_HvWW84",
        "outputId": "b605e333-d5c3-4638-c096-7600b50498c3"
      },
      "outputs": [
        {
          "output_type": "execute_result",
          "data": {
            "text/plain": [
              "[1, 2, 3, 4, 5]"
            ]
          },
          "metadata": {},
          "execution_count": 1
        }
      ],
      "source": [
        "#Lista\n",
        "[1,2,3,4,5]"
      ]
    },
    {
      "cell_type": "code",
      "source": [
        "#Tupla\n",
        "(1,2,3,4,5)"
      ],
      "metadata": {
        "colab": {
          "base_uri": "https://localhost:8080/"
        },
        "id": "4pjlbhoCWkMK",
        "outputId": "403f7990-6cde-4ee6-96b8-6a2bd2b4cd1b"
      },
      "execution_count": 2,
      "outputs": [
        {
          "output_type": "execute_result",
          "data": {
            "text/plain": [
              "(1, 2, 3, 4, 5)"
            ]
          },
          "metadata": {},
          "execution_count": 2
        }
      ]
    },
    {
      "cell_type": "code",
      "source": [
        "#Dicionario\n",
        "{'num': 1, 'num2': 2}"
      ],
      "metadata": {
        "colab": {
          "base_uri": "https://localhost:8080/"
        },
        "id": "FMKauUqCWpY6",
        "outputId": "681aa8e1-0f93-4877-f970-00926d3265b1"
      },
      "execution_count": 4,
      "outputs": [
        {
          "output_type": "execute_result",
          "data": {
            "text/plain": [
              "{'num': 1, 'num2': 2}"
            ]
          },
          "metadata": {},
          "execution_count": 4
        }
      ]
    },
    {
      "cell_type": "markdown",
      "source": [
        "Lista"
      ],
      "metadata": {
        "id": "7CIb0zRqW87N"
      }
    },
    {
      "cell_type": "code",
      "source": [
        "lista = [5, 'Brendo', 8.9]"
      ],
      "metadata": {
        "id": "C91v27TAW-MC"
      },
      "execution_count": 5,
      "outputs": []
    },
    {
      "cell_type": "code",
      "source": [
        "type(lista)"
      ],
      "metadata": {
        "colab": {
          "base_uri": "https://localhost:8080/"
        },
        "id": "ksAh7eYcXCrG",
        "outputId": "44ca3d22-8907-458b-bcaa-353d3291f247"
      },
      "execution_count": 6,
      "outputs": [
        {
          "output_type": "execute_result",
          "data": {
            "text/plain": [
              "list"
            ]
          },
          "metadata": {},
          "execution_count": 6
        }
      ]
    },
    {
      "cell_type": "code",
      "source": [
        "lista.append(\"augusto\") # Adicionar um elemento na lista"
      ],
      "metadata": {
        "id": "Tn550dWSXFR1"
      },
      "execution_count": 7,
      "outputs": []
    },
    {
      "cell_type": "code",
      "source": [
        "print(lista)\n",
        "print(lista[1])"
      ],
      "metadata": {
        "colab": {
          "base_uri": "https://localhost:8080/"
        },
        "id": "xxv3p7w6XMP1",
        "outputId": "f7887325-5e31-4cf4-efb9-22ed66bfc85e"
      },
      "execution_count": 8,
      "outputs": [
        {
          "output_type": "stream",
          "name": "stdout",
          "text": [
            "[5, 'Brendo', 8.9, 'augusto']\n",
            "Brendo\n"
          ]
        }
      ]
    },
    {
      "cell_type": "markdown",
      "source": [
        "Tupla"
      ],
      "metadata": {
        "id": "vpkwArE9X2Zz"
      }
    },
    {
      "cell_type": "code",
      "source": [
        "tupla = (5, 'Robrigo', 8.9)"
      ],
      "metadata": {
        "id": "NKUkv7aVX3f_"
      },
      "execution_count": 11,
      "outputs": []
    },
    {
      "cell_type": "code",
      "source": [
        "type(tupla)"
      ],
      "metadata": {
        "colab": {
          "base_uri": "https://localhost:8080/"
        },
        "id": "4AV4Fi4lYFKD",
        "outputId": "4bf73ec3-f89d-4177-cf61-8bb4cc3f57e0"
      },
      "execution_count": 10,
      "outputs": [
        {
          "output_type": "execute_result",
          "data": {
            "text/plain": [
              "tuple"
            ]
          },
          "metadata": {},
          "execution_count": 10
        }
      ]
    },
    {
      "cell_type": "markdown",
      "source": [
        "Dicionário"
      ],
      "metadata": {
        "id": "3_iqLNBWYNJP"
      }
    },
    {
      "cell_type": "code",
      "source": [
        "dicionario = {'nome': 'Brendo', 'cidade': 'São Paulo'}"
      ],
      "metadata": {
        "id": "Em9OQrHQYOwB"
      },
      "execution_count": 13,
      "outputs": []
    },
    {
      "cell_type": "code",
      "source": [
        "type(dicionario)"
      ],
      "metadata": {
        "colab": {
          "base_uri": "https://localhost:8080/"
        },
        "id": "JKqY4VepYid-",
        "outputId": "8a8b83c5-2e87-41bc-e545-e228942299b0"
      },
      "execution_count": 14,
      "outputs": [
        {
          "output_type": "execute_result",
          "data": {
            "text/plain": [
              "dict"
            ]
          },
          "metadata": {},
          "execution_count": 14
        }
      ]
    },
    {
      "cell_type": "code",
      "source": [
        "print(dicionario)"
      ],
      "metadata": {
        "colab": {
          "base_uri": "https://localhost:8080/"
        },
        "id": "j6gU87WWYktV",
        "outputId": "26a3367d-435c-4069-cac6-a42e92587630"
      },
      "execution_count": 15,
      "outputs": [
        {
          "output_type": "stream",
          "name": "stdout",
          "text": [
            "{'nome': 'Brendo', 'cidade': 'São Paulo'}\n"
          ]
        }
      ]
    },
    {
      "cell_type": "code",
      "source": [
        "print(dicionario[\"nome\"])"
      ],
      "metadata": {
        "colab": {
          "base_uri": "https://localhost:8080/"
        },
        "id": "XK2Wxk6RYnSO",
        "outputId": "865ce8b5-5624-4611-a511-a61a6bf23dd2"
      },
      "execution_count": 16,
      "outputs": [
        {
          "output_type": "stream",
          "name": "stdout",
          "text": [
            "Brendo\n"
          ]
        }
      ]
    },
    {
      "cell_type": "code",
      "source": [
        "dicionario['ultimo_nome'] = 'Revouças'"
      ],
      "metadata": {
        "id": "_rHgxm8YYuiu"
      },
      "execution_count": 17,
      "outputs": []
    },
    {
      "cell_type": "code",
      "source": [
        "print(dicionario)"
      ],
      "metadata": {
        "colab": {
          "base_uri": "https://localhost:8080/"
        },
        "id": "ckrGJmGuY0mH",
        "outputId": "25505199-dc0d-40f2-d699-34a76432fc59"
      },
      "execution_count": 18,
      "outputs": [
        {
          "output_type": "stream",
          "name": "stdout",
          "text": [
            "{'nome': 'Brendo', 'cidade': 'São Paulo', 'ultimo_nome': 'Revouças'}\n"
          ]
        }
      ]
    }
  ]
}